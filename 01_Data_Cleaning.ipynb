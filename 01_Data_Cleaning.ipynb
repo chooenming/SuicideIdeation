{
 "cells": [
  {
   "cell_type": "code",
   "execution_count": 25,
   "metadata": {},
   "outputs": [
    {
     "data": {
      "text/plain": [
       "<module 'utils' from '/Users/chooenming/Desktop/Capstone Project/To_Git/utils.py'>"
      ]
     },
     "execution_count": 25,
     "metadata": {},
     "output_type": "execute_result"
    }
   ],
   "source": [
    "import os\n",
    "import pandas as pd\n",
    "import numpy as np\n",
    "\n",
    "import utils\n",
    "import importlib\n",
    "importlib.reload(utils)"
   ]
  },
  {
   "cell_type": "markdown",
   "metadata": {},
   "source": [
    "# Data Understanding"
   ]
  },
  {
   "cell_type": "code",
   "execution_count": 2,
   "metadata": {},
   "outputs": [
    {
     "name": "stdout",
     "output_type": "stream",
     "text": [
      "   Unnamed: 0                                               text        class\n",
      "0           2  Ex Wife Threatening SuicideRecently I left my ...      suicide\n",
      "1           3  Am I weird I don't get affected by compliments...  non-suicide\n",
      "2           4  Finally 2020 is almost over... So I can never ...  non-suicide\n",
      "3           8          i need helpjust help me im crying so hard      suicide\n",
      "4           9  I’m so lostHello, my name is Adam (16) and I’v...      suicide\n"
     ]
    }
   ],
   "source": [
    "FILEPATH = \"/Users/chooenming/Desktop/Capstone Project/To_Git/Data/Suicide_Detection.csv\"\n",
    "data = utils.read_data(FILEPATH)"
   ]
  },
  {
   "cell_type": "code",
   "execution_count": 3,
   "metadata": {},
   "outputs": [
    {
     "name": "stdout",
     "output_type": "stream",
     "text": [
      "                                                text        class\n",
      "0  Ex Wife Threatening SuicideRecently I left my ...      suicide\n",
      "1  Am I weird I don't get affected by compliments...  non-suicide\n",
      "2  Finally 2020 is almost over... So I can never ...  non-suicide\n",
      "3          i need helpjust help me im crying so hard      suicide\n",
      "4  I’m so lostHello, my name is Adam (16) and I’v...      suicide\n"
     ]
    }
   ],
   "source": [
    "# drop unwanted column\n",
    "data = data.drop(columns=\"Unnamed: 0\")\n",
    "print(data.head())"
   ]
  },
  {
   "cell_type": "code",
   "execution_count": 4,
   "metadata": {},
   "outputs": [
    {
     "name": "stdout",
     "output_type": "stream",
     "text": [
      "Data Shape:  (232074, 2)\n",
      "Data Types:  text     object\n",
      "class    object\n",
      "dtype: object\n",
      "Number of rows being removed due to duplication:  0\n",
      "Final Data Shape:  (232074, 2)\n"
     ]
    }
   ],
   "source": [
    "# data quality check and basic data cleaning\n",
    "data_cleaned = utils.data_quali_check(data)"
   ]
  },
  {
   "cell_type": "markdown",
   "metadata": {},
   "source": [
    "# Text Preprocessing"
   ]
  },
  {
   "cell_type": "code",
   "execution_count": 19,
   "metadata": {},
   "outputs": [
    {
     "name": "stdout",
     "output_type": "stream",
     "text": [
      "                                                     text        class\n",
      "0       ex wife threaten suiciderec left wife good che...      suicide\n",
      "1       weird dont get affect compliment come someon k...  non-suicide\n",
      "2       final almost never hear bad year ever swear fu...  non-suicide\n",
      "3                          need helpjust help im cri hard      suicide\n",
      "4       im losthello name adam ive struggl year im afr...      suicide\n",
      "...                                                   ...          ...\n",
      "232069  dont like rock go get anyth go httpsmusictaste...  non-suicide\n",
      "232070  tell mani friend lone everyth depriv prebought...  non-suicide\n",
      "232071  pee probabl tast like salti tea someon drank p...  non-suicide\n",
      "232072  usual stuff find hereim post sympathi piti kno...      suicide\n",
      "232073  still havent beaten first bos hollow knight iv...  non-suicide\n",
      "\n",
      "[232074 rows x 2 columns]\n"
     ]
    }
   ],
   "source": [
    "column_for_text = [\"text\"]\n",
    "data_cleaned_v2 = utils.text_preprocessing_combi(data_cleaned, column_for_text)\n",
    "print(data_cleaned_v2)"
   ]
  },
  {
   "cell_type": "code",
   "execution_count": 20,
   "metadata": {},
   "outputs": [
    {
     "name": "stdout",
     "output_type": "stream",
     "text": [
      "                                                text        class  label\n",
      "0  ex wife threaten suiciderec left wife good che...      suicide      1\n",
      "1  weird dont get affect compliment come someon k...  non-suicide      0\n",
      "2  final almost never hear bad year ever swear fu...  non-suicide      0\n",
      "3                     need helpjust help im cri hard      suicide      1\n",
      "4  im losthello name adam ive struggl year im afr...      suicide      1\n"
     ]
    }
   ],
   "source": [
    "data_cleaned_v2[\"label\"] = data[\"class\"].apply(lambda x: 1 if x == \"suicide\" else 0)\n",
    "print(data_cleaned_v2.head())"
   ]
  },
  {
   "cell_type": "code",
   "execution_count": 21,
   "metadata": {},
   "outputs": [
    {
     "name": "stdout",
     "output_type": "stream",
     "text": [
      "                                                text  label\n",
      "0  ex wife threaten suiciderec left wife good che...      1\n",
      "1  weird dont get affect compliment come someon k...      0\n",
      "2  final almost never hear bad year ever swear fu...      0\n",
      "3                     need helpjust help im cri hard      1\n",
      "4  im losthello name adam ive struggl year im afr...      1\n"
     ]
    }
   ],
   "source": [
    "data_cleaned_v2 = data_cleaned_v2.drop(columns=\"class\")\n",
    "print(data_cleaned_v2.head())"
   ]
  },
  {
   "cell_type": "code",
   "execution_count": 26,
   "metadata": {},
   "outputs": [
    {
     "name": "stdout",
     "output_type": "stream",
     "text": [
      "Df successfully exported to /Users/chooenming/Desktop/Capstone Project/To_Git/Data/cleaned_data_v2.csv\n"
     ]
    }
   ],
   "source": [
    "OUTPUT_FILEPATH = \"/Users/chooenming/Desktop/Capstone Project/To_Git/Data\"\n",
    "FILENAME = \"cleaned_data.csv\"\n",
    "FULLPATH = os.path.join(OUTPUT_FILEPATH, FILENAME)\n",
    "utils.export_to_csv(data_cleaned_v2, FULLPATH)"
   ]
  },
  {
   "cell_type": "code",
   "execution_count": null,
   "metadata": {},
   "outputs": [],
   "source": []
  }
 ],
 "metadata": {
  "kernelspec": {
   "display_name": "Python 3",
   "language": "python",
   "name": "python3"
  },
  "language_info": {
   "codemirror_mode": {
    "name": "ipython",
    "version": 3
   },
   "file_extension": ".py",
   "mimetype": "text/x-python",
   "name": "python",
   "nbconvert_exporter": "python",
   "pygments_lexer": "ipython3",
   "version": "3.11.5"
  }
 },
 "nbformat": 4,
 "nbformat_minor": 2
}
